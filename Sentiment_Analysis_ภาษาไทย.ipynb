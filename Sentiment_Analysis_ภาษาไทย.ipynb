{
  "nbformat": 4,
  "nbformat_minor": 0,
  "metadata": {
    "accelerator": "GPU",
    "colab": {
      "name": "Sentiment Analysis ภาษาไทย.ipynb",
      "provenance": [],
      "collapsed_sections": [],
      "machine_shape": "hm",
      "mount_file_id": "1lkmFM7C0rRKr_cZCV_h8zIhTa0phG3Jc",
      "authorship_tag": "ABX9TyNFOZppgGmoyGYsw7aAP4Wo",
      "include_colab_link": true
    },
    "kernelspec": {
      "display_name": "Python 3",
      "name": "python3"
    }
  },
  "cells": [
    {
      "cell_type": "markdown",
      "metadata": {
        "id": "view-in-github",
        "colab_type": "text"
      },
      "source": [
        "<a href=\"https://colab.research.google.com/github/aaatou123/Tor_Portfolio/blob/master/Sentiment_Analysis_%E0%B8%A0%E0%B8%B2%E0%B8%A9%E0%B8%B2%E0%B9%84%E0%B8%97%E0%B8%A2.ipynb\" target=\"_parent\"><img src=\"https://colab.research.google.com/assets/colab-badge.svg\" alt=\"Open In Colab\"/></a>"
      ]
    },
    {
      "cell_type": "code",
      "metadata": {
        "id": "HG2C5QoKQ7AB"
      },
      "source": [
        "!pip install pythainlp\n",
        "!pip install stop_words\n",
        "!pip install deepcut"
      ],
      "execution_count": null,
      "outputs": []
    },
    {
      "cell_type": "code",
      "metadata": {
        "id": "YU-tyBX_ToEe"
      },
      "source": [
        "import numpy as np\n",
        "import pandas as pd\n",
        "import matplotlib.pyplot as plt\n",
        "import seaborn as sns\n",
        "from random import sample \n",
        "\n",
        "\n",
        "import deepcut\n",
        "import pythainlp\n",
        "from pythainlp import word_tokenize\n",
        "from pythainlp.corpus import wordnet\n",
        "import nltk\n",
        "from nltk.stem.porter import PorterStemmer\n",
        "from nltk.corpus import words\n",
        "from stop_words import get_stop_words\n",
        "from pythainlp.corpus import thai_stopwords\n",
        "\n",
        "\n",
        "from sklearn.feature_extraction.text import TfidfVectorizer \n",
        "from sklearn.preprocessing import LabelEncoder\n",
        "from keras.preprocessing.text import Tokenizer\n",
        "from keras.preprocessing.sequence import pad_sequences\n",
        "from keras.utils.np_utils import to_categorical\n",
        "from sklearn.model_selection import train_test_split\n",
        "\n",
        "\n",
        "from sklearn.linear_model import LogisticRegression\n",
        "from sklearn.naive_bayes import MultinomialNB \n",
        "from tensorflow.keras.layers import Dense, Embedding, Dropout, LSTM, GRU\n",
        "from tensorflow.keras.models import Sequential\n",
        "from keras.callbacks import EarlyStopping\n",
        "from sklearn.metrics import plot_confusion_matrix, confusion_matrix\n",
        "\n",
        "import pickle"
      ],
      "execution_count": null,
      "outputs": []
    },
    {
      "cell_type": "markdown",
      "metadata": {
        "id": "-tmWdbWi_s7r"
      },
      "source": [
        "**Read Dataset**"
      ]
    },
    {
      "cell_type": "code",
      "metadata": {
        "colab": {
          "base_uri": "https://localhost:8080/",
          "height": 204
        },
        "id": "wBk9t9tpsb2m",
        "outputId": "7af1c01a-81eb-4bec-8e30-c0fe45d0505f"
      },
      "source": [
        "file_pos = '/content/drive/My Drive/datasets/wisesight-sentiment-master/pos.txt'\n",
        "file_neg = '/content/drive/My Drive/datasets/wisesight-sentiment-master/neg.txt'\n",
        "file_neu = '/content/drive/My Drive/datasets/wisesight-sentiment-master/neu.txt'\n",
        "with codecs.open(file_pos, 'r', \"utf-8\") as f:\n",
        "  lines = f.readlines()\n",
        "listpos=[e.strip() for e in lines]\n",
        "del lines\n",
        "f.close()\n",
        "with codecs.open(file_neg, 'r', \"utf-8\") as f:\n",
        "  lines = f.readlines()\n",
        "listneg=[e.strip() for e in lines]\n",
        "del lines\n",
        "f.close()\n",
        "pos1=['pos']*len(listpos)\n",
        "neg1=['neg']*len(listneg)\n",
        "training_data = list(zip(listpos,pos1)) + list(zip(listneg,neg1))\n",
        "df_sentiment = pd.DataFrame(data=training_data, columns=['SentimentText', 'Sentiment'])\n",
        "df_sentiment = df_sentiment.sample(frac = 1) \n",
        "df_sentiment.head()"
      ],
      "execution_count": null,
      "outputs": [
        {
          "output_type": "execute_result",
          "data": {
            "text/html": [
              "<div>\n",
              "<style scoped>\n",
              "    .dataframe tbody tr th:only-of-type {\n",
              "        vertical-align: middle;\n",
              "    }\n",
              "\n",
              "    .dataframe tbody tr th {\n",
              "        vertical-align: top;\n",
              "    }\n",
              "\n",
              "    .dataframe thead th {\n",
              "        text-align: right;\n",
              "    }\n",
              "</style>\n",
              "<table border=\"1\" class=\"dataframe\">\n",
              "  <thead>\n",
              "    <tr style=\"text-align: right;\">\n",
              "      <th></th>\n",
              "      <th>SentimentText</th>\n",
              "      <th>Sentiment</th>\n",
              "    </tr>\n",
              "  </thead>\n",
              "  <tbody>\n",
              "    <tr>\n",
              "      <th>653</th>\n",
              "      <td>ยอดเยี่ยม</td>\n",
              "      <td>pos</td>\n",
              "    </tr>\n",
              "    <tr>\n",
              "      <th>9179</th>\n",
              "      <td>บอกละ นานมาก คือกูก็ไม่รู้อะว่าจะทำยังไง เครีย...</td>\n",
              "      <td>neg</td>\n",
              "    </tr>\n",
              "    <tr>\n",
              "      <th>10270</th>\n",
              "      <td>ปกติซื้อเดอะเฟสช็อปน้อยมากส่วนใหญ่ก็อินนิสฟรีง...</td>\n",
              "      <td>neg</td>\n",
              "    </tr>\n",
              "    <tr>\n",
              "      <th>3042</th>\n",
              "      <td>ชุดไหนดี เพื่อนบ้านในอณาคตสนใจม้ายยยย</td>\n",
              "      <td>pos</td>\n",
              "    </tr>\n",
              "    <tr>\n",
              "      <th>921</th>\n",
              "      <td>ไปๆ ใด้เฮงๆ</td>\n",
              "      <td>pos</td>\n",
              "    </tr>\n",
              "  </tbody>\n",
              "</table>\n",
              "</div>"
            ],
            "text/plain": [
              "                                           SentimentText Sentiment\n",
              "653                                            ยอดเยี่ยม       pos\n",
              "9179   บอกละ นานมาก คือกูก็ไม่รู้อะว่าจะทำยังไง เครีย...       neg\n",
              "10270  ปกติซื้อเดอะเฟสช็อปน้อยมากส่วนใหญ่ก็อินนิสฟรีง...       neg\n",
              "3042               ชุดไหนดี เพื่อนบ้านในอณาคตสนใจม้ายยยย       pos\n",
              "921                                          ไปๆ ใด้เฮงๆ       pos"
            ]
          },
          "metadata": {
            "tags": []
          },
          "execution_count": 137
        }
      ]
    },
    {
      "cell_type": "code",
      "metadata": {
        "colab": {
          "base_uri": "https://localhost:8080/"
        },
        "id": "dMBIzl7QwBRj",
        "outputId": "c73f29de-8b9e-45f4-f208-1ccf198b1c65"
      },
      "source": [
        "df_sentiment['word'] = df_sentiment['SentimentText'].apply(word_tokenize)\n",
        "df_sentiment['length'] = df_sentiment['SentimentText'].apply(word_tokenize).apply(len)\n",
        "df_sentiment.head()\n",
        "df_sentiment.length.value_counts()"
      ],
      "execution_count": null,
      "outputs": [
        {
          "output_type": "execute_result",
          "data": {
            "text/plain": [
              "3      630\n",
              "6      611\n",
              "4      610\n",
              "7      574\n",
              "5      567\n",
              "      ... \n",
              "140      1\n",
              "180      1\n",
              "188      1\n",
              "196      1\n",
              "219      1\n",
              "Name: length, Length: 216, dtype: int64"
            ]
          },
          "metadata": {
            "tags": []
          },
          "execution_count": 138
        }
      ]
    },
    {
      "cell_type": "markdown",
      "metadata": {
        "id": "4Mu_n9ikBEEk"
      },
      "source": [
        "### **Train model with traditional ML**"
      ]
    },
    {
      "cell_type": "markdown",
      "metadata": {
        "id": "6dhF9ko__kJx"
      },
      "source": [
        "Cleaning and Preprocessing data"
      ]
    },
    {
      "cell_type": "code",
      "metadata": {
        "colab": {
          "base_uri": "https://localhost:8080/"
        },
        "id": "u_lDPjUQ30o5",
        "outputId": "9c0d3088-9096-4398-ed62-6d70e5fc0850"
      },
      "source": [
        "nltk.download('words')\n",
        "th_stop = tuple(thai_stopwords())\n",
        "en_stop = tuple(get_stop_words('en'))\n",
        "p_stemmer = PorterStemmer()\n",
        "def split_word(text):\n",
        "            \n",
        "    \n",
        "    tokens = deepcut.tokenize(text)\n",
        "    \n",
        "    tokens = [i for i in tokens if not i in th_stop and not i in en_stop]\n",
        "    \n",
        "\n",
        "    tokens = [p_stemmer.stem(i) for i in tokens]\n",
        "    \n",
        "\n",
        "    tokens_temp=[]\n",
        "    for i in tokens:\n",
        "        w_syn = wordnet.synsets(i)\n",
        "        if (len(w_syn)>0) and (len(w_syn[0].lemma_names('tha'))>0):\n",
        "            tokens_temp.append(w_syn[0].lemma_names('tha')[0])\n",
        "        else:\n",
        "            tokens_temp.append(i)\n",
        "    \n",
        "    tokens = tokens_temp\n",
        "\n",
        "    tokens = [i for i in tokens if not i.isnumeric()]\n",
        "  \n",
        "    tokens = [i for i in tokens if not ' ' in i]\n",
        "\n",
        "    return tokens"
      ],
      "execution_count": null,
      "outputs": [
        {
          "output_type": "stream",
          "text": [
            "[nltk_data] Downloading package words to /root/nltk_data...\n",
            "[nltk_data]   Package words is already up-to-date!\n"
          ],
          "name": "stdout"
        }
      ]
    },
    {
      "cell_type": "code",
      "metadata": {
        "id": "iYZPAinT6KZM"
      },
      "source": [
        "#Tokenize Text and clean data\n",
        "tokens_list = [split_word(txt) for txt in df_sentiment['SentimentText']]\n",
        "tokens_list_j = [','.join(tkn) for tkn in tokens_list]\n",
        "\n",
        "#Vectorization\n",
        "tvec = TfidfVectorizer(analyzer=lambda x:x.split(','))\n",
        "tvec.fit(tokens_list_j)\n",
        "t_feat = tvec.transform(tokens_list_j)\n",
        "text_transformed = pd.DataFrame(t_feat.toarray(), columns=tvec.get_feature_names())\n",
        "\n",
        "#Label Encoder\n",
        "le = LabelEncoder()\n",
        "le.fit(df_sentiment.Sentiment)\n",
        "y = le.transform(df_sentiment.Sentiment)\n",
        "X = text_transformed\n",
        "\n",
        "#Split train and test\n",
        "X_train, X_test, y_train, y_test = train_test_split(X, y, test_size=0.2, random_state=2475)"
      ],
      "execution_count": null,
      "outputs": []
    },
    {
      "cell_type": "markdown",
      "metadata": {
        "id": "WSkUP8Y4EGzp"
      },
      "source": [
        "Train model"
      ]
    },
    {
      "cell_type": "code",
      "metadata": {
        "colab": {
          "base_uri": "https://localhost:8080/"
        },
        "id": "gumRy7o8683i",
        "outputId": "1e2c4467-7bcf-49d7-ed3a-8cc91e0f16d3"
      },
      "source": [
        "#LogisticRegression\n",
        "log_reg = LogisticRegression(C=6).fit(X_train, y_train)\n",
        "print('Accuracy LogisticRegression on the train set: ', log_reg.score(X_train, y_train))\n",
        "print('Accuracy LogisticRegression on the test set: ', log_reg.score(X_test, y_test))\n",
        "\n",
        "#MultinomialNB\n",
        "MNB = MultinomialNB().fit(X_train, y_train)\n",
        "print('Accuracy MultinomialNB on the train set: ', MNB.score(X_train, y_train))\n",
        "print('Accuracy MultinomialNB on the test set: ', MNB.score(X_test, y_test))"
      ],
      "execution_count": null,
      "outputs": [
        {
          "output_type": "stream",
          "text": [
            "Accuracy LogisticRegression on the train set:  0.9474194591100097\n",
            "Accuracy LogisticRegression on the test set:  0.8043946574752262\n",
            "Accuracy MultinomialNB on the train set:  0.8526020902919944\n",
            "Accuracy MultinomialNB on the test set:  0.7544161999138302\n"
          ],
          "name": "stdout"
        }
      ]
    },
    {
      "cell_type": "markdown",
      "metadata": {
        "id": "dPB_c7VPSWSs"
      },
      "source": [
        "# **Train model with RNN**"
      ]
    },
    {
      "cell_type": "markdown",
      "metadata": {
        "id": "kon6EKb-IbNx"
      },
      "source": [
        "Text Preprocessing"
      ]
    },
    {
      "cell_type": "code",
      "metadata": {
        "id": "W3MDTv9zBE4B"
      },
      "source": [
        "def split_word_rnn(text):\n",
        "            \n",
        "    \n",
        "    tokens = word_tokenize(text,engine='newmm')\n",
        "    \n",
        "    tokens = [i for i in tokens if not i in th_stop]\n",
        "\n",
        "    tokens_temp=[]\n",
        "    for i in tokens:\n",
        "        w_syn = wordnet.synsets(i)\n",
        "        if (len(w_syn)>0) and (len(w_syn[0].lemma_names('tha'))>0):\n",
        "            tokens_temp.append(w_syn[0].lemma_names('tha')[0])\n",
        "        else:\n",
        "            tokens_temp.append(i)\n",
        "    \n",
        "    tokens = tokens_temp\n",
        "    \n",
        "    tokens = [i for i in tokens if not i.isnumeric()]\n",
        "    \n",
        "    tokens = [i for i in tokens if not ' ' in i]\n",
        "\n",
        "    return tokens"
      ],
      "execution_count": null,
      "outputs": []
    },
    {
      "cell_type": "code",
      "metadata": {
        "id": "VHkwNdN7_Vpk"
      },
      "source": [
        "#clean data\n",
        "tokens_rnn = [split_word_rnn(txt) for txt in df_sentiment['SentimentText']]\n",
        "tokens_rnn_j = [','.join(tkn) for tkn in tokens_list]\n",
        "\n",
        "#Tokenizer\n",
        "tokenizer = Tokenizer()\n",
        "tokenizer.fit_on_texts(tokens_list_j)\n",
        "x_rnn = pad_sequences(tokenizer.texts_to_sequences(tokens_list_j), maxlen=600)\n",
        "\n",
        "#vocabulary size\n",
        "vocab_size = len(tokenizer.word_index) + 1\n",
        "\n",
        "#Split train and test\n",
        "X_train_rnn, X_test_rnn, y_train_rnn, y_test_rnn = train_test_split(x_rnn, y, test_size=0.2, random_state=2475)"
      ],
      "execution_count": null,
      "outputs": []
    },
    {
      "cell_type": "markdown",
      "metadata": {
        "id": "TZrQDe7oKNUZ"
      },
      "source": [
        "Build Model"
      ]
    },
    {
      "cell_type": "code",
      "metadata": {
        "id": "fJD7yH73OgO5"
      },
      "source": [
        "early_stopping_monitor = EarlyStopping(patience=1, monitor='val_loss')"
      ],
      "execution_count": null,
      "outputs": []
    },
    {
      "cell_type": "code",
      "metadata": {
        "id": "8J4sW3llhUXy"
      },
      "source": [
        "model = Sequential()\n",
        "model.add(Embedding(input_dim=vocab_size, output_dim=128, input_length=600, trainable=True))\n",
        "model.add(Dropout(0.5))\n",
        "model.add(LSTM(64, dropout=0.2, recurrent_dropout=0.2))\n",
        "model.add(Dense(1, activation='sigmoid'))\n",
        "model.compile(loss='binary_crossentropy', optimizer='adam', metrics=['accuracy'])"
      ],
      "execution_count": null,
      "outputs": []
    },
    {
      "cell_type": "markdown",
      "metadata": {
        "id": "CjdSG1fnKa5v"
      },
      "source": [
        "Compile model"
      ]
    },
    {
      "cell_type": "code",
      "metadata": {
        "colab": {
          "base_uri": "https://localhost:8080/"
        },
        "id": "1CV10x55hj5I",
        "outputId": "6494be05-150b-44d2-9f0f-758cd25c3a36"
      },
      "source": [
        "train_model2 = model.fit(X_train_rnn, y_train_rnn,\n",
        "                    batch_size=1024,\n",
        "                    epochs=10,\n",
        "                    validation_split=0.1,\n",
        "                    verbose=1,\n",
        "                    callbacks= [early_stopping_monitor]\n",
        "                    )"
      ],
      "execution_count": null,
      "outputs": [
        {
          "output_type": "stream",
          "text": [
            "Epoch 1/10\n",
            "9/9 [==============================] - 21s 2s/step - loss: 0.6838 - accuracy: 0.5995 - val_loss: 0.6525 - val_accuracy: 0.7212\n",
            "Epoch 2/10\n",
            "9/9 [==============================] - 19s 2s/step - loss: 0.6344 - accuracy: 0.6979 - val_loss: 0.5904 - val_accuracy: 0.7040\n",
            "Epoch 3/10\n",
            "9/9 [==============================] - 19s 2s/step - loss: 0.5775 - accuracy: 0.7026 - val_loss: 0.5639 - val_accuracy: 0.7051\n",
            "Epoch 4/10\n",
            "9/9 [==============================] - 19s 2s/step - loss: 0.5398 - accuracy: 0.7339 - val_loss: 0.5384 - val_accuracy: 0.7481\n",
            "Epoch 5/10\n",
            "9/9 [==============================] - 19s 2s/step - loss: 0.4973 - accuracy: 0.7705 - val_loss: 0.5089 - val_accuracy: 0.7492\n",
            "Epoch 6/10\n",
            "9/9 [==============================] - 19s 2s/step - loss: 0.4421 - accuracy: 0.7961 - val_loss: 0.4847 - val_accuracy: 0.7707\n",
            "Epoch 7/10\n",
            "9/9 [==============================] - 19s 2s/step - loss: 0.3842 - accuracy: 0.8348 - val_loss: 0.4645 - val_accuracy: 0.7815\n",
            "Epoch 8/10\n",
            "9/9 [==============================] - 19s 2s/step - loss: 0.3335 - accuracy: 0.8672 - val_loss: 0.4561 - val_accuracy: 0.7879\n",
            "Epoch 9/10\n",
            "9/9 [==============================] - 19s 2s/step - loss: 0.2915 - accuracy: 0.8819 - val_loss: 0.4669 - val_accuracy: 0.7890\n"
          ],
          "name": "stdout"
        }
      ]
    },
    {
      "cell_type": "code",
      "metadata": {
        "id": "JkJx-1hFYf-F"
      },
      "source": [
        "def decode_sentiment(score):\n",
        "  if score >= 0.5:\n",
        "    label = 1\n",
        "  else:\n",
        "    label = 0\n",
        "  return label"
      ],
      "execution_count": null,
      "outputs": []
    },
    {
      "cell_type": "code",
      "metadata": {
        "colab": {
          "base_uri": "https://localhost:8080/",
          "height": 367
        },
        "id": "0CTs34yzxcqX",
        "outputId": "ca82f81b-4ec4-44a7-98c7-62286b72ee44"
      },
      "source": [
        "y_pred_log = log_reg.predict(X_test)\r\n",
        "y_pred_log = [decode_sentiment(score) for score in y_pred_log]\r\n",
        "plt.figure(figsize=(10, 5))\r\n",
        "cf_matrix_log = confusion_matrix(y_test, y_pred_log, normalize='true')\r\n",
        "sns.heatmap(cf_matrix_log, annot=True)\r\n",
        "plt.title('LogisticRegression confution matrix, normalization')\r\n",
        "plt.xlabel('Predicted label')\r\n",
        "plt.ylabel('True label')"
      ],
      "execution_count": null,
      "outputs": [
        {
          "output_type": "execute_result",
          "data": {
            "text/plain": [
              "Text(69.0, 0.5, 'True label')"
            ]
          },
          "metadata": {
            "tags": []
          },
          "execution_count": 148
        },
        {
          "output_type": "display_data",
          "data": {
            "image/png": "[encoded data removed]",
            "text/plain": [
              "<Figure size 720x360 with 2 Axes>"
            ]
          },
          "metadata": {
            "tags": [],
            "needs_background": "light"
          }
        }
      ]
    },
    {
      "cell_type": "code",
      "metadata": {
        "colab": {
          "base_uri": "https://localhost:8080/",
          "height": 367
        },
        "id": "WLZm5F3M1D92",
        "outputId": "78799405-126e-40f0-ad57-12def5c20dd8"
      },
      "source": [
        "y_pred_MNB = MNB.predict(X_test)\r\n",
        "y_pred_MNB = [decode_sentiment(score) for score in y_pred_MNB]\r\n",
        "plt.figure(figsize=(10, 5))\r\n",
        "cf_matrix_MNB = confusion_matrix(y_test, y_pred_MNB, normalize='true')\r\n",
        "sns.heatmap(cf_matrix_MNB, annot=True)\r\n",
        "plt.title('MultinomialNB confution matrix, normalization')\r\n",
        "plt.xlabel('Predicted label')\r\n",
        "plt.ylabel('True label')"
      ],
      "execution_count": null,
      "outputs": [
        {
          "output_type": "execute_result",
          "data": {
            "text/plain": [
              "Text(69.0, 0.5, 'True label')"
            ]
          },
          "metadata": {
            "tags": []
          },
          "execution_count": 149
        },
        {
          "output_type": "display_data",
          "data": {
            "image/png": "[encoded data removed]",
            "text/plain": [
              "<Figure size 720x360 with 2 Axes>"
            ]
          },
          "metadata": {
            "tags": [],
            "needs_background": "light"
          }
        }
      ]
    },
    {
      "cell_type": "code",
      "metadata": {
        "colab": {
          "base_uri": "https://localhost:8080/",
          "height": 367
        },
        "id": "kQY5IXYYt2p2",
        "outputId": "9c0be94c-ac82-4548-d7f0-afbdffcb05a0"
      },
      "source": [
        "y_pred_rnn = model.predict(X_test_rnn)\r\n",
        "y_pred_rnn = [decode_sentiment(score) for score in y_pred_rnn]\r\n",
        "plt.figure(figsize=(10, 5))\r\n",
        "cf_matrix = confusion_matrix(y_test_rnn, y_pred_rnn, normalize='true')\r\n",
        "sns.heatmap(cf_matrix, annot=True)\r\n",
        "plt.title('LogisticRegression confution matrix, normalization')\r\n",
        "plt.xlabel('Predicted label')\r\n",
        "plt.ylabel('True label')"
      ],
      "execution_count": null,
      "outputs": [
        {
          "output_type": "execute_result",
          "data": {
            "text/plain": [
              "Text(69.0, 0.5, 'True label')"
            ]
          },
          "metadata": {
            "tags": []
          },
          "execution_count": 150
        },
        {
          "output_type": "display_data",
          "data": {
            "image/png": "[encoded data removed]",
            "text/plain": [
              "<Figure size 720x360 with 2 Axes>"
            ]
          },
          "metadata": {
            "tags": [],
            "needs_background": "light"
          }
        }
      ]
    },
    {
      "cell_type": "code",
      "metadata": {
        "id": "nJ31giW_tFmL"
      },
      "source": [
        "#save LogisticRegression model\n",
        "filename_log_reg = 'log_reg_model.h5'\n",
        "pickle.dump(log_reg, open(filename_log_reg, 'wb'))\n",
        "\n",
        "#save MultinomialNB model\n",
        "filename_MNB = 'MNB_model.h5'\n",
        "pickle.dump(MNB, open(filename_MNB, 'wb'))\n",
        "\n",
        "#save TfidfVectorizer\n",
        "tfidf_Filename = \"tfidf_Model.pkl\"  \n",
        "pickle.dump(tvec.vocabulary_,open(tfidf_Filename,\"wb\"))\n",
        "\n",
        "#save Tokenizer\n",
        "tokenizer_Filename = 'tokenizer_model.pkl'\n",
        "pickle.dump(tokenizer,open(tokenizer_Filename,\"wb\"))\n",
        "\n",
        "#save RNN model\n",
        "model.save('keras_model.h5')\n",
        "pickle.dump(tokenizer, open('tokenizer_model.pkl', \"wb\"), protocol=0)"
      ],
      "execution_count": null,
      "outputs": []
    },
    {
      "cell_type": "code",
      "metadata": {
        "id": "Mz1S53qCuciU"
      },
      "source": [
        ""
      ],
      "execution_count": null,
      "outputs": []
    }
  ]
}